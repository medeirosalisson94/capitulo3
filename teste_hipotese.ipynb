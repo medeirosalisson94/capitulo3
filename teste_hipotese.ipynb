{
 "cells": [
  {
   "cell_type": "markdown",
   "id": "8f9be75f-70a4-4af6-a8d5-676e518286cd",
   "metadata": {
    "tags": []
   },
   "source": [
    "#\n",
    "**1 - TESTE DE HIPÓTESE MATÉRIA ORGÂNICA**"
   ]
  },
  {
   "cell_type": "code",
   "execution_count": 23,
   "id": "e178982f-d984-491e-b205-031af2e634c5",
   "metadata": {
    "tags": []
   },
   "outputs": [
    {
     "data": {
      "text/html": [
       "<div>\n",
       "<style scoped>\n",
       "    .dataframe tbody tr th:only-of-type {\n",
       "        vertical-align: middle;\n",
       "    }\n",
       "\n",
       "    .dataframe tbody tr th {\n",
       "        vertical-align: top;\n",
       "    }\n",
       "\n",
       "    .dataframe thead th {\n",
       "        text-align: right;\n",
       "    }\n",
       "</style>\n",
       "<table border=\"1\" class=\"dataframe\">\n",
       "  <thead>\n",
       "    <tr style=\"text-align: right;\">\n",
       "      <th></th>\n",
       "      <th>Unnamed: 0</th>\n",
       "      <th>index</th>\n",
       "      <th>Ponto</th>\n",
       "      <th>MO_g_Kg_1</th>\n",
       "      <th>latitude</th>\n",
       "      <th>longitude</th>\n",
       "      <th>geometry</th>\n",
       "    </tr>\n",
       "  </thead>\n",
       "  <tbody>\n",
       "    <tr>\n",
       "      <th>0</th>\n",
       "      <td>0</td>\n",
       "      <td>0</td>\n",
       "      <td>P1</td>\n",
       "      <td>73.122202</td>\n",
       "      <td>-6.069449</td>\n",
       "      <td>-37.885254</td>\n",
       "      <td>POINT (-37.885254 -6.069449)</td>\n",
       "    </tr>\n",
       "    <tr>\n",
       "      <th>1</th>\n",
       "      <td>1</td>\n",
       "      <td>1</td>\n",
       "      <td>P2</td>\n",
       "      <td>39.207252</td>\n",
       "      <td>-6.088487</td>\n",
       "      <td>-37.901950</td>\n",
       "      <td>POINT (-37.90195 -6.088487)</td>\n",
       "    </tr>\n",
       "    <tr>\n",
       "      <th>2</th>\n",
       "      <td>2</td>\n",
       "      <td>2</td>\n",
       "      <td>P3</td>\n",
       "      <td>22.030000</td>\n",
       "      <td>-6.055249</td>\n",
       "      <td>-37.908521</td>\n",
       "      <td>POINT (-37.908521 -6.055249)</td>\n",
       "    </tr>\n",
       "    <tr>\n",
       "      <th>3</th>\n",
       "      <td>3</td>\n",
       "      <td>3</td>\n",
       "      <td>P5</td>\n",
       "      <td>25.312250</td>\n",
       "      <td>-6.113206</td>\n",
       "      <td>-37.901073</td>\n",
       "      <td>POINT (-37.901073 -6.113206)</td>\n",
       "    </tr>\n",
       "    <tr>\n",
       "      <th>4</th>\n",
       "      <td>4</td>\n",
       "      <td>4</td>\n",
       "      <td>P7</td>\n",
       "      <td>39.290000</td>\n",
       "      <td>-6.105825</td>\n",
       "      <td>-37.926200</td>\n",
       "      <td>POINT (-37.9262 -6.105825)</td>\n",
       "    </tr>\n",
       "    <tr>\n",
       "      <th>5</th>\n",
       "      <td>5</td>\n",
       "      <td>5</td>\n",
       "      <td>P9</td>\n",
       "      <td>39.665000</td>\n",
       "      <td>-6.060547</td>\n",
       "      <td>-37.930371</td>\n",
       "      <td>POINT (-37.930371 -6.060547)</td>\n",
       "    </tr>\n",
       "    <tr>\n",
       "      <th>6</th>\n",
       "      <td>6</td>\n",
       "      <td>6</td>\n",
       "      <td>P10</td>\n",
       "      <td>15.890000</td>\n",
       "      <td>-6.087906</td>\n",
       "      <td>-37.890844</td>\n",
       "      <td>POINT (-37.890844 -6.087906)</td>\n",
       "    </tr>\n",
       "    <tr>\n",
       "      <th>7</th>\n",
       "      <td>7</td>\n",
       "      <td>7</td>\n",
       "      <td>P13</td>\n",
       "      <td>11.842731</td>\n",
       "      <td>-6.096004</td>\n",
       "      <td>-37.957903</td>\n",
       "      <td>POINT (-37.957903 -6.096004)</td>\n",
       "    </tr>\n",
       "    <tr>\n",
       "      <th>8</th>\n",
       "      <td>8</td>\n",
       "      <td>8</td>\n",
       "      <td>P14</td>\n",
       "      <td>7.187327</td>\n",
       "      <td>-6.128841</td>\n",
       "      <td>-37.982047</td>\n",
       "      <td>POINT (-37.982047 -6.128841)</td>\n",
       "    </tr>\n",
       "    <tr>\n",
       "      <th>9</th>\n",
       "      <td>9</td>\n",
       "      <td>9</td>\n",
       "      <td>P15</td>\n",
       "      <td>4.867737</td>\n",
       "      <td>-6.103991</td>\n",
       "      <td>-37.972415</td>\n",
       "      <td>POINT (-37.972415 -6.103991)</td>\n",
       "    </tr>\n",
       "    <tr>\n",
       "      <th>10</th>\n",
       "      <td>10</td>\n",
       "      <td>10</td>\n",
       "      <td>P16</td>\n",
       "      <td>37.470000</td>\n",
       "      <td>-6.009893</td>\n",
       "      <td>-37.894880</td>\n",
       "      <td>POINT (-37.89488 -6.009893)</td>\n",
       "    </tr>\n",
       "    <tr>\n",
       "      <th>11</th>\n",
       "      <td>11</td>\n",
       "      <td>11</td>\n",
       "      <td>P17</td>\n",
       "      <td>13.609778</td>\n",
       "      <td>-6.071400</td>\n",
       "      <td>-37.886300</td>\n",
       "      <td>POINT (-37.8863 -6.0714)</td>\n",
       "    </tr>\n",
       "    <tr>\n",
       "      <th>12</th>\n",
       "      <td>12</td>\n",
       "      <td>12</td>\n",
       "      <td>P18</td>\n",
       "      <td>7.149363</td>\n",
       "      <td>-6.019200</td>\n",
       "      <td>-37.991600</td>\n",
       "      <td>POINT (-37.9916 -6.0192)</td>\n",
       "    </tr>\n",
       "    <tr>\n",
       "      <th>13</th>\n",
       "      <td>13</td>\n",
       "      <td>13</td>\n",
       "      <td>P19</td>\n",
       "      <td>3.246154</td>\n",
       "      <td>-6.131400</td>\n",
       "      <td>-38.105200</td>\n",
       "      <td>POINT (-38.1052 -6.1314)</td>\n",
       "    </tr>\n",
       "  </tbody>\n",
       "</table>\n",
       "</div>"
      ],
      "text/plain": [
       "    Unnamed: 0  index Ponto  MO_g_Kg_1  latitude  longitude  \\\n",
       "0            0      0    P1  73.122202 -6.069449 -37.885254   \n",
       "1            1      1    P2  39.207252 -6.088487 -37.901950   \n",
       "2            2      2    P3  22.030000 -6.055249 -37.908521   \n",
       "3            3      3    P5  25.312250 -6.113206 -37.901073   \n",
       "4            4      4    P7  39.290000 -6.105825 -37.926200   \n",
       "5            5      5    P9  39.665000 -6.060547 -37.930371   \n",
       "6            6      6   P10  15.890000 -6.087906 -37.890844   \n",
       "7            7      7   P13  11.842731 -6.096004 -37.957903   \n",
       "8            8      8   P14   7.187327 -6.128841 -37.982047   \n",
       "9            9      9   P15   4.867737 -6.103991 -37.972415   \n",
       "10          10     10   P16  37.470000 -6.009893 -37.894880   \n",
       "11          11     11   P17  13.609778 -6.071400 -37.886300   \n",
       "12          12     12   P18   7.149363 -6.019200 -37.991600   \n",
       "13          13     13   P19   3.246154 -6.131400 -38.105200   \n",
       "\n",
       "                        geometry  \n",
       "0   POINT (-37.885254 -6.069449)  \n",
       "1    POINT (-37.90195 -6.088487)  \n",
       "2   POINT (-37.908521 -6.055249)  \n",
       "3   POINT (-37.901073 -6.113206)  \n",
       "4     POINT (-37.9262 -6.105825)  \n",
       "5   POINT (-37.930371 -6.060547)  \n",
       "6   POINT (-37.890844 -6.087906)  \n",
       "7   POINT (-37.957903 -6.096004)  \n",
       "8   POINT (-37.982047 -6.128841)  \n",
       "9   POINT (-37.972415 -6.103991)  \n",
       "10   POINT (-37.89488 -6.009893)  \n",
       "11      POINT (-37.8863 -6.0714)  \n",
       "12      POINT (-37.9916 -6.0192)  \n",
       "13      POINT (-38.1052 -6.1314)  "
      ]
     },
     "execution_count": 23,
     "metadata": {},
     "output_type": "execute_result"
    }
   ],
   "source": [
    "import pandas as pd\n",
    "\n",
    "# Importar DataFrame JV\n",
    "co2_pts_jv = pd.read_csv('C:\\\\Users\\\\Alisson Medeiros\\\\tese_cap6\\\\tabelas\\\\JV_SOC_GKG_med.csv', sep = ';', encoding = 'UTF-8')\n",
    "\n",
    "# Importar DataFrame MAR\n",
    "co2_pts_mar = pd.read_csv('C:\\\\Users\\\\Alisson Medeiros\\\\tese_cap6\\\\tabelas\\\\MAR_SOC_GKG_med.csv', sep = ';', encoding = 'UTF-8')\n",
    "co2_pts_jv\n",
    "co2_pts_mar"
   ]
  },
  {
   "cell_type": "code",
   "execution_count": 20,
   "id": "74e6843b-e164-4e4d-a8c2-e91476ca5b6d",
   "metadata": {
    "tags": []
   },
   "outputs": [
    {
     "data": {
      "text/html": [
       "<div>\n",
       "<style scoped>\n",
       "    .dataframe tbody tr th:only-of-type {\n",
       "        vertical-align: middle;\n",
       "    }\n",
       "\n",
       "    .dataframe tbody tr th {\n",
       "        vertical-align: top;\n",
       "    }\n",
       "\n",
       "    .dataframe thead th {\n",
       "        text-align: right;\n",
       "    }\n",
       "</style>\n",
       "<table border=\"1\" class=\"dataframe\">\n",
       "  <thead>\n",
       "    <tr style=\"text-align: right;\">\n",
       "      <th></th>\n",
       "      <th>MO_g_Kg_1</th>\n",
       "    </tr>\n",
       "  </thead>\n",
       "  <tbody>\n",
       "    <tr>\n",
       "      <th>0</th>\n",
       "      <td>12.920000</td>\n",
       "    </tr>\n",
       "    <tr>\n",
       "      <th>2</th>\n",
       "      <td>44.112412</td>\n",
       "    </tr>\n",
       "    <tr>\n",
       "      <th>3</th>\n",
       "      <td>62.422152</td>\n",
       "    </tr>\n",
       "    <tr>\n",
       "      <th>4</th>\n",
       "      <td>36.597130</td>\n",
       "    </tr>\n",
       "    <tr>\n",
       "      <th>5</th>\n",
       "      <td>53.557256</td>\n",
       "    </tr>\n",
       "    <tr>\n",
       "      <th>6</th>\n",
       "      <td>24.345010</td>\n",
       "    </tr>\n",
       "    <tr>\n",
       "      <th>7</th>\n",
       "      <td>23.310000</td>\n",
       "    </tr>\n",
       "    <tr>\n",
       "      <th>8</th>\n",
       "      <td>19.950000</td>\n",
       "    </tr>\n",
       "    <tr>\n",
       "      <th>9</th>\n",
       "      <td>28.230000</td>\n",
       "    </tr>\n",
       "  </tbody>\n",
       "</table>\n",
       "</div>"
      ],
      "text/plain": [
       "   MO_g_Kg_1\n",
       "0  12.920000\n",
       "2  44.112412\n",
       "3  62.422152\n",
       "4  36.597130\n",
       "5  53.557256\n",
       "6  24.345010\n",
       "7  23.310000\n",
       "8  19.950000\n",
       "9  28.230000"
      ]
     },
     "execution_count": 20,
     "metadata": {},
     "output_type": "execute_result"
    }
   ],
   "source": [
    "#Excluir colunas\n",
    "co2_pts_jv = co2_pts_jv.drop(columns=['Unnamed: 0', 'Ponto','latitude','longitude'])\n",
    "\n",
    "#Excluir linhas\n",
    "co2_pts_jv = co2_pts_jv.drop(1)\n",
    "co2_pts_jv"
   ]
  },
  {
   "cell_type": "code",
   "execution_count": 24,
   "id": "92aeb67c-9317-41d5-90e9-9a3eef6d3bd7",
   "metadata": {
    "tags": []
   },
   "outputs": [
    {
     "data": {
      "text/html": [
       "<div>\n",
       "<style scoped>\n",
       "    .dataframe tbody tr th:only-of-type {\n",
       "        vertical-align: middle;\n",
       "    }\n",
       "\n",
       "    .dataframe tbody tr th {\n",
       "        vertical-align: top;\n",
       "    }\n",
       "\n",
       "    .dataframe thead th {\n",
       "        text-align: right;\n",
       "    }\n",
       "</style>\n",
       "<table border=\"1\" class=\"dataframe\">\n",
       "  <thead>\n",
       "    <tr style=\"text-align: right;\">\n",
       "      <th></th>\n",
       "      <th>Ponto</th>\n",
       "      <th>MO_g_Kg_1</th>\n",
       "    </tr>\n",
       "  </thead>\n",
       "  <tbody>\n",
       "    <tr>\n",
       "      <th>1</th>\n",
       "      <td>P2</td>\n",
       "      <td>39.207252</td>\n",
       "    </tr>\n",
       "    <tr>\n",
       "      <th>3</th>\n",
       "      <td>P5</td>\n",
       "      <td>25.312250</td>\n",
       "    </tr>\n",
       "    <tr>\n",
       "      <th>4</th>\n",
       "      <td>P7</td>\n",
       "      <td>39.290000</td>\n",
       "    </tr>\n",
       "    <tr>\n",
       "      <th>5</th>\n",
       "      <td>P9</td>\n",
       "      <td>39.665000</td>\n",
       "    </tr>\n",
       "    <tr>\n",
       "      <th>6</th>\n",
       "      <td>P10</td>\n",
       "      <td>15.890000</td>\n",
       "    </tr>\n",
       "    <tr>\n",
       "      <th>7</th>\n",
       "      <td>P13</td>\n",
       "      <td>11.842731</td>\n",
       "    </tr>\n",
       "    <tr>\n",
       "      <th>8</th>\n",
       "      <td>P14</td>\n",
       "      <td>7.187327</td>\n",
       "    </tr>\n",
       "    <tr>\n",
       "      <th>9</th>\n",
       "      <td>P15</td>\n",
       "      <td>4.867737</td>\n",
       "    </tr>\n",
       "    <tr>\n",
       "      <th>12</th>\n",
       "      <td>P18</td>\n",
       "      <td>7.149363</td>\n",
       "    </tr>\n",
       "  </tbody>\n",
       "</table>\n",
       "</div>"
      ],
      "text/plain": [
       "   Ponto  MO_g_Kg_1\n",
       "1     P2  39.207252\n",
       "3     P5  25.312250\n",
       "4     P7  39.290000\n",
       "5     P9  39.665000\n",
       "6    P10  15.890000\n",
       "7    P13  11.842731\n",
       "8    P14   7.187327\n",
       "9    P15   4.867737\n",
       "12   P18   7.149363"
      ]
     },
     "execution_count": 24,
     "metadata": {},
     "output_type": "execute_result"
    }
   ],
   "source": [
    "#Excluir colunas\n",
    "co2_pts_mar = co2_pts_mar.drop(columns=['Unnamed: 0', 'index','latitude','longitude','geometry'])\n",
    "\n",
    "#Excluir linhas\n",
    "co2_pts_mar = co2_pts_mar.drop([0,2,10,11,13])\n",
    "co2_pts_mar"
   ]
  },
  {
   "cell_type": "code",
   "execution_count": 13,
   "id": "0d0ad98d-138f-4799-aabb-298c0599d769",
   "metadata": {
    "tags": []
   },
   "outputs": [
    {
     "data": {
      "text/plain": [
       "(0.19075212897250027, 0.4573785797510448)"
      ]
     },
     "execution_count": 13,
     "metadata": {},
     "output_type": "execute_result"
    }
   ],
   "source": [
    "#TESTE DE NORMALIDADE PARA MO JOÃO DO VALE\n",
    "#Importar bibliotecas\n",
    "import scipy.stats as stats\n",
    "import statsmodels\n",
    "from statsmodels.stats.diagnostic import lilliefors\n",
    "import pandas as pd\n",
    "\n",
    "#Teste de normalidade dos pontos amostrais\n",
    "statsmodels.stats.diagnostic.lilliefors(co2_pts_jv.MO_g_Kg_1, dist = 'norm')\n",
    "\n",
    "#O valor de p é  0.4573785797510448, MAIOR do que 0,05. DISTRIBUIÇÃO NORMAL"
   ]
  },
  {
   "cell_type": "code",
   "execution_count": 15,
   "id": "35697ada-8498-4fdc-85a7-b5f6694cb4e6",
   "metadata": {
    "tags": []
   },
   "outputs": [
    {
     "data": {
      "text/plain": [
       "(0.21984656952148784, 0.2428285569894069)"
      ]
     },
     "execution_count": 15,
     "metadata": {},
     "output_type": "execute_result"
    }
   ],
   "source": [
    "#TESTE DE NORMALIDADE MO PARA MARTINS\n",
    "#Importar bibliotecas\n",
    "import scipy.stats as stats\n",
    "import statsmodels\n",
    "from statsmodels.stats.diagnostic import lilliefors\n",
    "import pandas as pd\n",
    "\n",
    "#Teste de normalidade dos pontos amostrais\n",
    "statsmodels.stats.diagnostic.lilliefors(co2_pts_mar.MO_g_Kg_1, dist = 'norm')\n",
    "\n",
    "#O valor de p é  0.2428285569894069, MAIOR do que 0,05. DISTRIBUIÇÃO NORMAL"
   ]
  },
  {
   "cell_type": "code",
   "execution_count": 21,
   "id": "78c2b3b8-2fac-444d-873d-8f3a77a3fa13",
   "metadata": {
    "tags": []
   },
   "outputs": [
    {
     "data": {
      "image/png": "[encoded data removed]",
      "text/plain": [
       "<Figure size 1000x700 with 2 Axes>"
      ]
     },
     "metadata": {},
     "output_type": "display_data"
    }
   ],
   "source": [
    "#PLOTAR GRÁFICOS BOXPLOT\n",
    "import pandas as pd\n",
    "import seaborn as sns\n",
    "import matplotlib.pyplot as plt\n",
    "\n",
    "# Criar a figura e eixos\n",
    "fig, axes = plt.subplots(1, 2, figsize=(10, 7))\n",
    "\n",
    "# Plotar os gráficos de precipitação\n",
    "sns.boxplot(data=co2_pts_jv, y=\"MO_g_Kg_1\", ax=axes[0])\n",
    "sns.boxplot(data=co2_pts_mar, y=\"MO_g_Kg_1\", ax=axes[1])\n",
    "\n",
    "#Ajustar os títulos\n",
    "axes[0].set_title(\"MO g/kg-1 - João do Vale\")\n",
    "axes[1].set_title(\"MO g/kg-1 - Martins\")\n",
    "\n",
    "# Melhorar o layout\n",
    "plt.tight_layout()\n",
    "plt.savefig(\"pts_MO_jv_mart_BOX_PLOT\")\n",
    "plt.show()"
   ]
  },
  {
   "cell_type": "markdown",
   "id": "de8c9e10-d1cc-4ff9-b8a5-dc3d53951644",
   "metadata": {},
   "source": [
    "**Teste de Levene para duas amostras independentes: Se o valor-p for menor ou igual ao nível de significância (0,05), a hipótese nula pode ser rejeitada.**\n",
    "\n",
    "Hipótese Nula (H0): As variâncias de todas as amostras são iguais (homocedasticidade) (p > 0,05)\n",
    "\n",
    "Hipótese Alternativa (H1): As variâncias de pelo menos duas amostras são diferentes (heterocedasticidade) (p <= 0,05)"
   ]
  },
  {
   "cell_type": "code",
   "execution_count": 40,
   "id": "27a9052b-88d8-4c3a-bfff-0a196ad71ddb",
   "metadata": {
    "tags": []
   },
   "outputs": [
    {
     "data": {
      "text/plain": [
       "LeveneResult(statistic=0.019942038589445318, pvalue=0.8894617840773287)"
      ]
     },
     "execution_count": 40,
     "metadata": {},
     "output_type": "execute_result"
    }
   ],
   "source": [
    "#Teste de Levene (é um teste estatístico usado para verificar se as variâncias de duas ou mais amostras são iguais (homocedasticidade))\n",
    "import scipy.stats as stats\n",
    "import pandas as pd\n",
    "\n",
    "#Realizar o teste de Levene\n",
    "teste_levene = stats.levene(co2_pts_jv['MO_g_Kg_1'], co2_pts_mar['MO_g_Kg_1'], center='mean')\n",
    "teste_levene"
   ]
  },
  {
   "cell_type": "markdown",
   "id": "273c07af-f78c-4e50-b9fa-cadf5832c51e",
   "metadata": {},
   "source": [
    "pvalue=0.8894617840773287\n",
    "\n",
    "**HIPÓTESE NULA NÃO PODE SER DESCARTADA**\n",
    "\n",
    "Hipótese Nula (H0): As variâncias de todas as amostras são iguais (homocedasticidade) (p > 0,05)"
   ]
  },
  {
   "cell_type": "markdown",
   "id": "267eb412-ff05-4196-ad5c-d43befdae39a",
   "metadata": {},
   "source": [
    "**Teste t de Student para duas amostras independentes: Se o valor-p for menor ou igual ao nível de significância (0,05), a hipótese nula pode ser rejeitada.**\n",
    "\n",
    "Hipótese nula: as médias dos grupos são iguais e os serviços de estoque de materia orgânica no solo entre BJ e serra secas são iguais (p > 0,05)\n",
    "\n",
    "Hipótese alternativa: há diferenças significativas entre as médias dos conjuntos e os serviços de estoque de materia orgânica no solo entre BJ e serra secas NÃO SÃO IGUAIS (p <= 0,05)"
   ]
  },
  {
   "cell_type": "code",
   "execution_count": 27,
   "id": "4484f2c7-9c9e-4072-a77f-5b9acb8705e9",
   "metadata": {
    "tags": []
   },
   "outputs": [
    {
     "name": "stdout",
     "output_type": "stream",
     "text": [
      "t_statistic =  [1.7218169]\n",
      "p_value =  [0.1043752]\n"
     ]
    }
   ],
   "source": [
    "#Teste t de Student para duas amostras independentes\n",
    "from scipy import stats\n",
    "\n",
    "#Realizar o teste t\n",
    "t_statistic, p_value = stats.ttest_ind(co2_pts_jv, co2_pts_mar)\n",
    "print('t_statistic = ',t_statistic)\n",
    "print('p_value = ',p_value)"
   ]
  },
  {
   "cell_type": "markdown",
   "id": "fc8776d3-5e5c-4fe8-aafb-8f89e0586d6a",
   "metadata": {},
   "source": [
    "p_value =  [0.1043752]\n",
    "\n",
    "**HIPÓTESE NULA NÃO PODE SER DESCARTADA**\n",
    "\n",
    "Hipótese nula: as médias dos grupos são iguais e os serviços de estoque de materia orgânica no solo entre BJ e serra secas são iguais (p > 0,05)"
   ]
  },
  {
   "cell_type": "markdown",
   "id": "1a0f59e9-4878-40fe-8faa-473b74078d2e",
   "metadata": {
    "tags": []
   },
   "source": [
    "#\n",
    "**2 - TESTE DE HIPÓTESE CO2FLUX**"
   ]
  },
  {
   "cell_type": "code",
   "execution_count": 1,
   "id": "321d56c0-1e2c-4e2c-864a-1b671d36b6c7",
   "metadata": {},
   "outputs": [
    {
     "data": {
      "text/plain": [
       "CO2FLUX8    0\n",
       "dtype: int64"
      ]
     },
     "execution_count": 1,
     "metadata": {},
     "output_type": "execute_result"
    }
   ],
   "source": [
    "#Importar bibliotecas\n",
    "import pandas as pd\n",
    "import geopandas as gpd\n",
    "import os\n",
    "\n",
    "#Importar dados das amostras de co2flux de JV\n",
    "#Criar variáveis referentes a cada planilha\n",
    "co2_JV = pd.read_csv(\"C:\\\\Users\\\\Alisson Medeiros\\\\tese_cap6\\\\tabelas\\\\CO2_flux_Pixel_Values_Export_JV.csv\", sep = ',', encoding = 'utf-8')\n",
    "\n",
    "#Excluir colunas\n",
    "co2_JV = co2_JV.drop(columns=['system:index', '.geo'])\n",
    "\n",
    "#Excluir valores NaN (nulos)\n",
    "co2_JV = co2_JV.dropna()\n",
    "\n",
    "#Análise de valores missing\n",
    "co2_JV.isnull().sum()"
   ]
  },
  {
   "cell_type": "code",
   "execution_count": 3,
   "id": "b7d0b0a3-4c37-40e9-8989-7117eeb58dba",
   "metadata": {
    "tags": []
   },
   "outputs": [
    {
     "data": {
      "text/plain": [
       "CO2FLUX8    0\n",
       "dtype: int64"
      ]
     },
     "execution_count": 3,
     "metadata": {},
     "output_type": "execute_result"
    }
   ],
   "source": [
    "#Importar bibliotecas\n",
    "import pandas as pd\n",
    "import geopandas as gpd\n",
    "import os\n",
    "\n",
    "#Importar dados das amostras de co2flux de MAR\n",
    "#Criar variáveis referentes a cada planilha\n",
    "co2_MAR = pd.read_csv(\"C:\\\\Users\\\\Alisson Medeiros\\\\tese_cap6\\\\tabelas\\\\CO2_flux_Pixel_Values_Export_MAR.csv\", sep = ',', encoding = 'utf-8')\n",
    "\n",
    "#Excluir colunas\n",
    "co2_MAR = co2_MAR.drop(columns=['system:index', '.geo'])\n",
    "\n",
    "#Excluir valores NaN (nulos)\n",
    "co2_MAR = co2_MAR.dropna()\n",
    "\n",
    "#Análise de valores missing\n",
    "co2_MAR.isnull().sum()"
   ]
  },
  {
   "cell_type": "code",
   "execution_count": 7,
   "id": "6a93bcf2-a20b-4cec-a8fe-47d94a7c74a4",
   "metadata": {
    "tags": []
   },
   "outputs": [
    {
     "data": {
      "text/plain": [
       "(0.1215274197290287, 0.0021502673870336265)"
      ]
     },
     "execution_count": 7,
     "metadata": {},
     "output_type": "execute_result"
    }
   ],
   "source": [
    "#TESTE DE NORMALIDADE PARA MO JOÃO DO VALE\n",
    "#Importar bibliotecas\n",
    "import scipy.stats as stats\n",
    "import statsmodels\n",
    "from statsmodels.stats.diagnostic import lilliefors\n",
    "import pandas as pd\n",
    "\n",
    "#Teste de normalidade dos pontos amostrais\n",
    "statsmodels.stats.diagnostic.lilliefors(co2_JV.CO2FLUX8, dist = 'norm')\n",
    "\n",
    "#O valor de p é  0.0021502673870336265, MENOR do que 0,05. DISTRIBUIÇÃO NÃO É NORMAL"
   ]
  },
  {
   "cell_type": "code",
   "execution_count": 8,
   "id": "7550882e-bf14-4ed3-9088-917cb606dc07",
   "metadata": {
    "tags": []
   },
   "outputs": [
    {
     "data": {
      "text/plain": [
       "(0.1607660150200272, 0.0009999999999998899)"
      ]
     },
     "execution_count": 8,
     "metadata": {},
     "output_type": "execute_result"
    }
   ],
   "source": [
    "#TESTE DE NORMALIDADE MO PARA MARTINS\n",
    "#Importar bibliotecas\n",
    "import scipy.stats as stats\n",
    "import statsmodels\n",
    "from statsmodels.stats.diagnostic import lilliefors\n",
    "import pandas as pd\n",
    "\n",
    "#Teste de normalidade dos pontos amostrais\n",
    "statsmodels.stats.diagnostic.lilliefors(co2_MAR.CO2FLUX8, dist = 'norm')\n",
    "\n",
    "#O valor de p é  0.0009999999999998899, MENOR do que 0,05. DISTRIBUIÇÃO NÃO É NORMAL"
   ]
  },
  {
   "cell_type": "code",
   "execution_count": 9,
   "id": "3f9ddb98-8936-4b77-803f-6291ca94b61e",
   "metadata": {
    "tags": []
   },
   "outputs": [
    {
     "data": {
      "image/png": "[encoded data removed]",
      "text/plain": [
       "<Figure size 1000x700 with 2 Axes>"
      ]
     },
     "metadata": {},
     "output_type": "display_data"
    }
   ],
   "source": [
    "#PLOTAR GRÁFICOS BOXPLOT\n",
    "import pandas as pd\n",
    "import seaborn as sns\n",
    "import matplotlib.pyplot as plt\n",
    "\n",
    "# Criar a figura e eixos\n",
    "fig, axes = plt.subplots(1, 2, figsize=(10, 7))\n",
    "\n",
    "# Plotar os gráficos de precipitação\n",
    "sns.boxplot(data=co2_JV, y=\"CO2FLUX8\", ax=axes[0])\n",
    "sns.boxplot(data=co2_MAR, y=\"CO2FLUX8\", ax=axes[1])\n",
    "\n",
    "#Ajustar os títulos\n",
    "axes[0].set_title(\"Índice CO2flux - João do Vale\")\n",
    "axes[1].set_title(\"Índice CO2flux - Martins\")\n",
    "\n",
    "# Melhorar o layout\n",
    "plt.tight_layout()\n",
    "plt.savefig(\"indice_co2_jv_mart_BOX_PLOT\")\n",
    "plt.show()"
   ]
  },
  {
   "cell_type": "markdown",
   "id": "f05aa4d8-d511-4e02-9046-9363b4e20ed0",
   "metadata": {},
   "source": [
    "**Mann-Whitney U: Se o valor-p for menor ou igual ao nível de significância (0,05), a hipótese nula pode ser rejeitada.**\n",
    "\n",
    "Hipótese nula: as medianas dos grupos são iguais e NÃO EXISTE DIFERENÇAS NA EFICIÊCIA DE SEQUESTRAR CO2 ATMOSFÉRICO (p > 0,05)\n",
    "\n",
    "Hipótese alternativa: há diferenças significativas entre os conjuntos e EXISTE DIFERENÇAS NA EFICIÊCIA DE SEQUESTRAR CO2 ATMOSFÉRICO (p <= 0,05)"
   ]
  },
  {
   "cell_type": "code",
   "execution_count": 10,
   "id": "2db03ecf-8989-4f94-b690-2f3a8e27172f",
   "metadata": {
    "tags": []
   },
   "outputs": [
    {
     "name": "stdout",
     "output_type": "stream",
     "text": [
      "Mann-Whitney U: U = 3862.0, p = 0.44694719463835786\n"
     ]
    }
   ],
   "source": [
    "#Teste de Mann-Whitney\n",
    "from scipy.stats import mannwhitneyu\n",
    "\n",
    "#Teste de Mann-Whitney U para SAN_MART\n",
    "u_stat, p_value = mannwhitneyu(co2_JV['CO2FLUX8'], co2_MAR['CO2FLUX8'])\n",
    "print(f\"Mann-Whitney U: U = {u_stat}, p = {p_value}\")"
   ]
  },
  {
   "cell_type": "markdown",
   "id": "61caf57b-610b-4ab3-975b-b1462daa4b22",
   "metadata": {},
   "source": [
    "**p = 0.44694719463835786 > 0,05: HIPÓTESE NULA NÃO PODE SER DESCARTADA**\n",
    "\n",
    "Hipótese nula: as medianas dos grupos são iguais e NÃO EXISTE DIFERENÇAS NA EFICIÊCIA DE SEQUESTRAR CO2 ATMOSFÉRICO (p > 0,05)"
   ]
  }
 ],
 "metadata": {
  "kernelspec": {
   "display_name": "Python 3 (ipykernel)",
   "language": "python",
   "name": "python3"
  },
  "language_info": {
   "codemirror_mode": {
    "name": "ipython",
    "version": 3
   },
   "file_extension": ".py",
   "mimetype": "text/x-python",
   "name": "python",
   "nbconvert_exporter": "python",
   "pygments_lexer": "ipython3",
   "version": "3.10.11"
  }
 },
 "nbformat": 4,
 "nbformat_minor": 5
}
